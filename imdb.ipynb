{
 "cells": [
  {
   "cell_type": "code",
   "execution_count": 1,
   "id": "1f1dbc75",
   "metadata": {},
   "outputs": [],
   "source": [
    "import numpy as np\n",
    "from tensorflow.keras.datasets import imdb\n",
    "from tensorflow.keras.models import Sequential\n",
    "from tensorflow.keras.layers import Dense, Embedding, Flatten\n",
    "from tensorflow.keras.preprocessing import sequence"
   ]
  },
  {
   "cell_type": "code",
   "execution_count": 2,
   "id": "deb9e3ad",
   "metadata": {},
   "outputs": [],
   "source": [
    "max_features = 5000 # Number of words to consider as features\n",
    "maxlen = 400 # Cut texts after this number of words\n",
    "batch_size = 32\n",
    "embedding_dims = 50\n",
    "epochs = 5"
   ]
  },
  {
   "cell_type": "code",
   "execution_count": 3,
   "id": "e2ba15a9",
   "metadata": {},
   "outputs": [
    {
     "name": "stdout",
     "output_type": "stream",
     "text": [
      "25000 train sequences\n",
      "25000 test sequences\n"
     ]
    }
   ],
   "source": [
    "(x_train, y_train), (x_test, y_test) = imdb.load_data(num_words=max_features)\n",
    "print(len(x_train), 'train sequences')\n",
    "print(len(x_test), 'test sequences')"
   ]
  },
  {
   "cell_type": "code",
   "execution_count": 4,
   "id": "b5f7ec74",
   "metadata": {},
   "outputs": [],
   "source": [
    "# Pad sequences to make them all the same length\n",
    "x_train = sequence.pad_sequences(x_train, maxlen=maxlen)\n",
    "x_test = sequence.pad_sequences(x_test, maxlen=maxlen)"
   ]
  },
  {
   "cell_type": "code",
   "execution_count": 5,
   "id": "bc3b88e9",
   "metadata": {},
   "outputs": [],
   "source": [
    "# Build the model\n",
    "model = Sequential()"
   ]
  },
  {
   "cell_type": "code",
   "execution_count": 6,
   "id": "1a71d772",
   "metadata": {},
   "outputs": [],
   "source": [
    "# Embedding layer\n",
    "model.add(Embedding(max_features, embedding_dims, input_length=maxlen))"
   ]
  },
  {
   "cell_type": "code",
   "execution_count": 7,
   "id": "6b8adfc8",
   "metadata": {},
   "outputs": [],
   "source": [
    "# Flatten the 3D tensor to 2D for dense layer\n",
    "model.add(Flatten())"
   ]
  },
  {
   "cell_type": "code",
   "execution_count": 8,
   "id": "93830d39",
   "metadata": {},
   "outputs": [],
   "source": [
    "# Dense layer\n",
    "model.add(Dense(256, activation='relu'))\n",
    "model.add(Dense(1, activation='sigmoid'))"
   ]
  },
  {
   "cell_type": "code",
   "execution_count": 9,
   "id": "d4b94acf",
   "metadata": {},
   "outputs": [],
   "source": [
    "# Compile the model\n",
    "model.compile(optimizer='adam', loss='binary_crossentropy', metrics=['accuracy'])"
   ]
  },
  {
   "cell_type": "code",
   "execution_count": 10,
   "id": "723793d9",
   "metadata": {},
   "outputs": [
    {
     "name": "stdout",
     "output_type": "stream",
     "text": [
      "Epoch 1/5\n",
      "782/782 [==============================] - 111s 137ms/step - loss: 0.3913 - accuracy: 0.8125 - val_loss: 0.2959 - val_accuracy: 0.8764\n",
      "Epoch 2/5\n",
      "782/782 [==============================] - 134s 171ms/step - loss: 0.1103 - accuracy: 0.9611 - val_loss: 0.4161 - val_accuracy: 0.8474\n",
      "Epoch 3/5\n",
      "782/782 [==============================] - 185s 237ms/step - loss: 0.0263 - accuracy: 0.9907 - val_loss: 0.6353 - val_accuracy: 0.8484\n",
      "Epoch 4/5\n",
      "782/782 [==============================] - 153s 196ms/step - loss: 0.0150 - accuracy: 0.9948 - val_loss: 0.8134 - val_accuracy: 0.8432\n",
      "Epoch 5/5\n",
      "782/782 [==============================] - 160s 205ms/step - loss: 0.0263 - accuracy: 0.9908 - val_loss: 0.7858 - val_accuracy: 0.8437\n"
     ]
    }
   ],
   "source": [
    "# Train the model\n",
    "history = model.fit(x_train, y_train, batch_size=batch_size, epochs=epochs, validation_data=(x_test,y_test))"
   ]
  },
  {
   "cell_type": "code",
   "execution_count": 11,
   "id": "1ee75bcc",
   "metadata": {},
   "outputs": [
    {
     "name": "stdout",
     "output_type": "stream",
     "text": [
      "782/782 [==============================] - 11s 13ms/step - loss: 0.7858 - accuracy: 0.8437\n"
     ]
    }
   ],
   "source": [
    "results = model.evaluate(x_test, y_test)"
   ]
  },
  {
   "cell_type": "code",
   "execution_count": null,
   "id": "9a708101",
   "metadata": {},
   "outputs": [],
   "source": []
  }
 ],
 "metadata": {
  "kernelspec": {
   "display_name": "Python 3 (ipykernel)",
   "language": "python",
   "name": "python3"
  },
  "language_info": {
   "codemirror_mode": {
    "name": "ipython",
    "version": 3
   },
   "file_extension": ".py",
   "mimetype": "text/x-python",
   "name": "python",
   "nbconvert_exporter": "python",
   "pygments_lexer": "ipython3",
   "version": "3.10.9"
  }
 },
 "nbformat": 4,
 "nbformat_minor": 5
}
